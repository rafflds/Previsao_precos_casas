{
  "nbformat": 4,
  "nbformat_minor": 0,
  "metadata": {
    "colab": {
      "provenance": [],
      "mount_file_id": "1JcOLKaNbdZJv0Lj7TmShaQ1r6ZpU8RIF",
      "authorship_tag": "ABX9TyOoeG88J5gX7wrurgdbOLkh",
      "include_colab_link": true
    },
    "kernelspec": {
      "name": "python3",
      "display_name": "Python 3"
    },
    "language_info": {
      "name": "python"
    }
  },
  "cells": [
    {
      "cell_type": "markdown",
      "metadata": {
        "id": "view-in-github",
        "colab_type": "text"
      },
      "source": [
        "<a href=\"https://colab.research.google.com/github/rafflds/Previsao_precos_casas/blob/main/Previs%C3%A3o_de_Precos_de_Casas.ipynb\" target=\"_parent\"><img src=\"https://colab.research.google.com/assets/colab-badge.svg\" alt=\"Open In Colab\"/></a>"
      ]
    },
    {
      "cell_type": "markdown",
      "source": [
        "## Configuração do Ambiente"
      ],
      "metadata": {
        "id": "d0rZOu4l9exL"
      }
    },
    {
      "cell_type": "code",
      "execution_count": 1,
      "metadata": {
        "colab": {
          "base_uri": "https://localhost:8080/"
        },
        "id": "D5QWLyha9WC7",
        "outputId": "83c3e287-052d-4744-ca6d-647f3d3daa25"
      },
      "outputs": [
        {
          "output_type": "stream",
          "name": "stdout",
          "text": [
            "Collecting pyspark\n",
            "  Downloading pyspark-3.5.2.tar.gz (317.3 MB)\n",
            "\u001b[2K     \u001b[90m━━━━━━━━━━━━━━━━━━━━━━━━━━━━━━━━━━━━━━━━\u001b[0m \u001b[32m317.3/317.3 MB\u001b[0m \u001b[31m3.8 MB/s\u001b[0m eta \u001b[36m0:00:00\u001b[0m\n",
            "\u001b[?25h  Preparing metadata (setup.py) ... \u001b[?25l\u001b[?25hdone\n",
            "Requirement already satisfied: py4j==0.10.9.7 in /usr/local/lib/python3.10/dist-packages (from pyspark) (0.10.9.7)\n",
            "Building wheels for collected packages: pyspark\n",
            "  Building wheel for pyspark (setup.py) ... \u001b[?25l\u001b[?25hdone\n",
            "  Created wheel for pyspark: filename=pyspark-3.5.2-py2.py3-none-any.whl size=317812365 sha256=26382b2bbba72c9c5e8a81109bddc26a8594909a17254c1933eae168a0c2054a\n",
            "  Stored in directory: /root/.cache/pip/wheels/34/34/bd/03944534c44b677cd5859f248090daa9fb27b3c8f8e5f49574\n",
            "Successfully built pyspark\n",
            "Installing collected packages: pyspark\n",
            "Successfully installed pyspark-3.5.2\n"
          ]
        }
      ],
      "source": [
        "!pip install pyspark\n"
      ]
    },
    {
      "cell_type": "markdown",
      "source": [
        "## Importar bibliotecas necessárias"
      ],
      "metadata": {
        "id": "k-nBpoJE9lex"
      }
    },
    {
      "cell_type": "code",
      "source": [
        "from pyspark.sql import SparkSession\n",
        "from pyspark.sql.functions import col\n",
        "from pyspark.ml.feature import StringIndexer, VectorAssembler, StandardScaler\n",
        "from pyspark.ml.regression import LinearRegression\n",
        "from pyspark.ml.evaluation import RegressionEvaluator\n",
        "from pyspark.ml import Pipeline\n",
        "\n",
        "from pyspark.sql.functions import isnan, when, count, col"
      ],
      "metadata": {
        "id": "FFSq2ObB9jJK"
      },
      "execution_count": 6,
      "outputs": []
    },
    {
      "cell_type": "markdown",
      "source": [
        "## Criar a SparkSession"
      ],
      "metadata": {
        "id": "3Pg9_qYx9qeK"
      }
    },
    {
      "cell_type": "code",
      "source": [
        "# Criar a SparkSession\n",
        "spark = SparkSession.builder.appName(\"HousePricesML\").getOrCreate()\n"
      ],
      "metadata": {
        "id": "nASqS_fg9nrA"
      },
      "execution_count": 3,
      "outputs": []
    },
    {
      "cell_type": "markdown",
      "source": [
        "## Carregar e Visualizar o Conjunto de Dados"
      ],
      "metadata": {
        "id": "5DjmcIp8AygY"
      }
    },
    {
      "cell_type": "code",
      "source": [
        "# Carregar o arquivo CSV\n",
        "file_path = '/content/drive/MyDrive/Cientista_de_Dados/Bases de dados/house_prices.csv'\n",
        "data = spark.read.csv(file_path, header=True, inferSchema=True)\n",
        "\n",
        "# Mostrar as primeiras linhas do dataset\n",
        "data.show(5)\n"
      ],
      "metadata": {
        "colab": {
          "base_uri": "https://localhost:8080/"
        },
        "id": "j71c2gSNAzGP",
        "outputId": "6854ad58-8cc2-4943-c4b1-a4c1f2e7ff86"
      },
      "execution_count": 4,
      "outputs": [
        {
          "output_type": "stream",
          "name": "stdout",
          "text": [
            "+----------+---------------+--------+--------+---------+-----------+--------+------+----------+----+---------+-----+----------+-------------+--------+------------+-------+-------+--------+-------------+----------+\n",
            "|        id|           date|   price|bedrooms|bathrooms|sqft_living|sqft_lot|floors|waterfront|view|condition|grade|sqft_above|sqft_basement|yr_built|yr_renovated|zipcode|    lat|    long|sqft_living15|sqft_lot15|\n",
            "+----------+---------------+--------+--------+---------+-----------+--------+------+----------+----+---------+-----+----------+-------------+--------+------------+-------+-------+--------+-------------+----------+\n",
            "|7129300520|20141013T000000|221900.0|       3|      1.0|       1180|    5650|   1.0|         0|   0|        3|    7|      1180|            0|    1955|           0|  98178|47.5112|-122.257|         1340|      5650|\n",
            "|6414100192|20141209T000000|538000.0|       3|     2.25|       2570|    7242|   2.0|         0|   0|        3|    7|      2170|          400|    1951|        1991|  98125| 47.721|-122.319|         1690|      7639|\n",
            "|5631500400|20150225T000000|180000.0|       2|      1.0|        770|   10000|   1.0|         0|   0|        3|    6|       770|            0|    1933|           0|  98028|47.7379|-122.233|         2720|      8062|\n",
            "|2487200875|20141209T000000|604000.0|       4|      3.0|       1960|    5000|   1.0|         0|   0|        5|    7|      1050|          910|    1965|           0|  98136|47.5208|-122.393|         1360|      5000|\n",
            "|1954400510|20150218T000000|510000.0|       3|      2.0|       1680|    8080|   1.0|         0|   0|        3|    8|      1680|            0|    1987|           0|  98074|47.6168|-122.045|         1800|      7503|\n",
            "+----------+---------------+--------+--------+---------+-----------+--------+------+----------+----+---------+-----+----------+-------------+--------+------------+-------+-------+--------+-------------+----------+\n",
            "only showing top 5 rows\n",
            "\n"
          ]
        }
      ]
    },
    {
      "cell_type": "markdown",
      "source": [
        "## Análise Exploratória de Dados (EDA)"
      ],
      "metadata": {
        "id": "KKTn7b0iBJgY"
      }
    },
    {
      "cell_type": "code",
      "source": [
        "# Verificar o esquema do dataset\n",
        "data.printSchema()\n",
        "\n",
        "# Descrever os dados numéricos\n",
        "data.describe().show()\n",
        "\n",
        "# Verificar a existência de valores nulos\n",
        "data.select([count(when(col(c).isNull(), c)).alias(c) for c in data.columns]).show()\n"
      ],
      "metadata": {
        "colab": {
          "base_uri": "https://localhost:8080/"
        },
        "id": "TG1D6PJIBDvz",
        "outputId": "8853fc04-31de-41a7-c895-8f395d537ee1"
      },
      "execution_count": 7,
      "outputs": [
        {
          "output_type": "stream",
          "name": "stdout",
          "text": [
            "root\n",
            " |-- id: long (nullable = true)\n",
            " |-- date: string (nullable = true)\n",
            " |-- price: double (nullable = true)\n",
            " |-- bedrooms: integer (nullable = true)\n",
            " |-- bathrooms: double (nullable = true)\n",
            " |-- sqft_living: integer (nullable = true)\n",
            " |-- sqft_lot: integer (nullable = true)\n",
            " |-- floors: double (nullable = true)\n",
            " |-- waterfront: integer (nullable = true)\n",
            " |-- view: integer (nullable = true)\n",
            " |-- condition: integer (nullable = true)\n",
            " |-- grade: integer (nullable = true)\n",
            " |-- sqft_above: integer (nullable = true)\n",
            " |-- sqft_basement: integer (nullable = true)\n",
            " |-- yr_built: integer (nullable = true)\n",
            " |-- yr_renovated: integer (nullable = true)\n",
            " |-- zipcode: integer (nullable = true)\n",
            " |-- lat: double (nullable = true)\n",
            " |-- long: double (nullable = true)\n",
            " |-- sqft_living15: integer (nullable = true)\n",
            " |-- sqft_lot15: integer (nullable = true)\n",
            "\n",
            "+-------+--------------------+---------------+------------------+-----------------+------------------+------------------+------------------+------------------+--------------------+-------------------+------------------+------------------+------------------+------------------+------------------+------------------+------------------+-------------------+-------------------+-----------------+------------------+\n",
            "|summary|                  id|           date|             price|         bedrooms|         bathrooms|       sqft_living|          sqft_lot|            floors|          waterfront|               view|         condition|             grade|        sqft_above|     sqft_basement|          yr_built|      yr_renovated|           zipcode|                lat|               long|    sqft_living15|        sqft_lot15|\n",
            "+-------+--------------------+---------------+------------------+-----------------+------------------+------------------+------------------+------------------+--------------------+-------------------+------------------+------------------+------------------+------------------+------------------+------------------+------------------+-------------------+-------------------+-----------------+------------------+\n",
            "|  count|               21613|          21613|             21613|            21613|             21613|             21613|             21613|             21613|               21613|              21613|             21613|             21613|             21613|             21613|             21613|             21613|             21613|              21613|              21613|            21613|             21613|\n",
            "|   mean| 4.580301520864988E9|           NULL| 540088.1417665294| 3.37084162309721|2.1147573219821405|2079.8997362698374|15106.967565816869|1.4943089807060566|0.007541757275713691|0.23430342849211122|3.4094295100171195| 7.656873178179799|1788.3906907879516| 291.5090454818859|1971.0051357978994| 84.40225790033776| 98077.93980474715|  47.56005251931704|-122.21389640494083|1986.552491556008|12768.455651691113|\n",
            "| stddev|2.8765655713120522E9|           NULL|367127.19648270035|0.930061831147451| 0.770163157217741| 918.4408970468096| 41420.51151513551|0.5399888951423489| 0.08651719772788748| 0.7663175692736114|0.6507430463662044|1.1754587569743344| 828.0909776519175|442.57504267746685|29.373410802386243|401.67924001917504|53.505026257472466|0.13856371024192368|0.14082834238139288|685.3913042527788|27304.179631338524|\n",
            "|    min|             1000102|20140502T000000|           75000.0|                0|               0.0|               290|               520|               1.0|                   0|                  0|                 1|                 1|               290|                 0|              1900|                 0|             98001|            47.1559|           -122.519|              399|               651|\n",
            "|    max|          9900000190|20150527T000000|         7700000.0|               33|               8.0|             13540|           1651359|               3.5|                   1|                  4|                 5|                13|              9410|              4820|              2015|              2015|             98199|            47.7776|           -121.315|             6210|            871200|\n",
            "+-------+--------------------+---------------+------------------+-----------------+------------------+------------------+------------------+------------------+--------------------+-------------------+------------------+------------------+------------------+------------------+------------------+------------------+------------------+-------------------+-------------------+-----------------+------------------+\n",
            "\n",
            "+---+----+-----+--------+---------+-----------+--------+------+----------+----+---------+-----+----------+-------------+--------+------------+-------+---+----+-------------+----------+\n",
            "| id|date|price|bedrooms|bathrooms|sqft_living|sqft_lot|floors|waterfront|view|condition|grade|sqft_above|sqft_basement|yr_built|yr_renovated|zipcode|lat|long|sqft_living15|sqft_lot15|\n",
            "+---+----+-----+--------+---------+-----------+--------+------+----------+----+---------+-----+----------+-------------+--------+------------+-------+---+----+-------------+----------+\n",
            "|  0|   0|    0|       0|        0|          0|       0|     0|         0|   0|        0|    0|         0|            0|       0|           0|      0|  0|   0|            0|         0|\n",
            "+---+----+-----+--------+---------+-----------+--------+------+----------+----+---------+-----+----------+-------------+--------+------------+-------+---+----+-------------+----------+\n",
            "\n"
          ]
        }
      ]
    },
    {
      "cell_type": "markdown",
      "source": [
        "## Pré-processamento dos Dados"
      ],
      "metadata": {
        "id": "VxdW_xz3BmHB"
      }
    },
    {
      "cell_type": "code",
      "source": [
        "# Remover colunas desnecessárias ou com muitos valores nulos (exemplo)\n",
        "data = data.drop(\"id\", \"date\")\n",
        "\n",
        "# Codificar variáveis categóricas\n",
        "indexers = [StringIndexer(inputCol=column, outputCol=column+\"_index\").fit(data)\n",
        "            for column in data.columns if data.schema[column].dataType == 'StringType']\n",
        "\n",
        "# Criar um vetor de features\n",
        "assembler = VectorAssembler(\n",
        "    inputCols=[column+\"_index\" if data.schema[column].dataType == 'StringType' else column for column in data.columns if column != 'price'],\n",
        "    outputCol=\"features\"\n",
        ")\n",
        "\n",
        "# Normalizar os dados numéricos\n",
        "scaler = StandardScaler(inputCol=\"features\", outputCol=\"scaledFeatures\")\n"
      ],
      "metadata": {
        "id": "91-pUCrPBMYo"
      },
      "execution_count": 8,
      "outputs": []
    },
    {
      "cell_type": "markdown",
      "source": [
        "## Dividir o Conjunto de Dados em Treino e Teste"
      ],
      "metadata": {
        "id": "8eZ2X12UB5Zw"
      }
    },
    {
      "cell_type": "code",
      "source": [
        "# Dividir o dataset em treino e teste\n",
        "train_data, test_data = data.randomSplit([0.7, 0.3], seed=42)\n"
      ],
      "metadata": {
        "id": "9vEXM0nRB2sx"
      },
      "execution_count": 9,
      "outputs": []
    },
    {
      "cell_type": "markdown",
      "source": [
        "## Construir e Treinar o Modelo"
      ],
      "metadata": {
        "id": "_tnCLbs9CAVg"
      }
    },
    {
      "cell_type": "code",
      "source": [
        "# Construir o modelo de Regressão Linear\n",
        "lr = LinearRegression(featuresCol=\"scaledFeatures\", labelCol=\"price\")\n",
        "\n",
        "# Criar o Pipeline\n",
        "pipeline = Pipeline(stages=indexers + [assembler, scaler, lr])\n",
        "\n",
        "# Treinar o modelo\n",
        "model = pipeline.fit(train_data)\n"
      ],
      "metadata": {
        "id": "G5fOYQq8B_KP"
      },
      "execution_count": 10,
      "outputs": []
    },
    {
      "cell_type": "markdown",
      "source": [
        "## Avaliar o Modelo"
      ],
      "metadata": {
        "id": "P9cFQRNQCOOv"
      }
    },
    {
      "cell_type": "code",
      "source": [
        "# Fazer previsões no conjunto de teste\n",
        "predictions = model.transform(test_data)\n",
        "\n",
        "# Avaliar o modelo\n",
        "evaluator = RegressionEvaluator(labelCol=\"price\", predictionCol=\"prediction\", metricName=\"rmse\")\n",
        "rmse = evaluator.evaluate(predictions)\n",
        "r2 = evaluator.evaluate(predictions, {evaluator.metricName: \"r2\"})\n",
        "\n",
        "print(f\"Root Mean Squared Error (RMSE): {rmse}\")\n",
        "print(f\"R2 Score: {r2}\")\n",
        "\n",
        "# Mostrar algumas previsões\n",
        "predictions.select(\"price\", \"prediction\", \"features\").show(5)\n"
      ],
      "metadata": {
        "colab": {
          "base_uri": "https://localhost:8080/"
        },
        "id": "WxQ6RZ8hCCj_",
        "outputId": "1082d2bb-14c4-4163-db24-a65853e4eec3"
      },
      "execution_count": 11,
      "outputs": [
        {
          "output_type": "stream",
          "name": "stdout",
          "text": [
            "Root Mean Squared Error (RMSE): 194184.75614285926\n",
            "R2 Score: 0.6975817824562345\n",
            "+-------+------------------+--------------------+\n",
            "|  price|        prediction|            features|\n",
            "+-------+------------------+--------------------+\n",
            "|80000.0|35543.102480161935|[1.0,0.75,430.0,5...|\n",
            "|83000.0|105271.07357006986|[2.0,1.0,900.0,85...|\n",
            "|85000.0|127172.07452908438|[2.0,1.0,830.0,90...|\n",
            "|85000.0|32530.308695724234|[2.0,1.0,910.0,97...|\n",
            "|90000.0|-22024.42745761294|[1.0,1.0,560.0,41...|\n",
            "+-------+------------------+--------------------+\n",
            "only showing top 5 rows\n",
            "\n"
          ]
        }
      ]
    },
    {
      "cell_type": "markdown",
      "source": [
        "## Salvar o Modelo"
      ],
      "metadata": {
        "id": "HKvd8N-bChiv"
      }
    },
    {
      "cell_type": "code",
      "source": [
        "model.save(\"path/to/save/model\")"
      ],
      "metadata": {
        "id": "okhgsBHGCPPH"
      },
      "execution_count": 12,
      "outputs": []
    }
  ]
}